{
 "cells": [
  {
   "cell_type": "code",
   "execution_count": 6,
   "metadata": {},
   "outputs": [],
   "source": [
    "import random\n",
    "import numpy as np\n",
    "from string import ascii_lowercase\n",
    "from itertools import combinations"
   ]
  },
  {
   "cell_type": "code",
   "execution_count": 9,
   "metadata": {},
   "outputs": [],
   "source": [
    "def new_problem(n, k, m):\n",
    "    positive_var = list(ascii_lowercase)[:n]\n",
    "    negative_var = [var.upper() for var in positive_var]\n",
    "    variables = positive_var + negative_var\n",
    "    problem = []\n",
    "    threshold = 10       \n",
    "    i = 0\n",
    "    comb = list(combinations(variables, k))\n",
    "    while i < threshold:\n",
    "        c = random.sample(comb, m)\n",
    "        if c not in problem:\n",
    "            problem.append(c)\n",
    "            i += 1\n",
    "    \n",
    "    problems_new = []\n",
    "    for c in problem:\n",
    "        temp = [list(sub) for sub in c]\n",
    "        problems_new.append(temp)\n",
    "    return  variables,problems_new "
   ]
  },
  {
   "cell_type": "code",
   "execution_count": 10,
   "metadata": {},
   "outputs": [],
   "source": [
    "def assign_randome_values(variables, n):\n",
    "    litral = list(np.random.choice(2, n))\n",
    "    negation = [abs(i - 1) for i in litral]\n",
    "    assign = litral + negation\n",
    "    return dict(zip(variables,assign))"
   ]
  },
  {
   "cell_type": "code",
   "execution_count": 11,
   "metadata": {},
   "outputs": [],
   "source": [
    "def heruistic(problem, assign):\n",
    "    count = 0\n",
    "    for sub in problem:       \n",
    "        encode = [assign[val] for val in sub]\n",
    "        count += any(encode)\n",
    "    return count"
   ]
  },
  {
   "cell_type": "code",
   "execution_count": 12,
   "metadata": {},
   "outputs": [],
   "source": [
    "def next_node(current):\n",
    "    key = list(current.keys())\n",
    "    key.sort()\n",
    "    key = key[0 : len(key) // 2]\n",
    "    successors = []\n",
    "    for k in key:\n",
    "        temp = current.copy()\n",
    "        temp[k] = abs(temp[k] - 1)\n",
    "        temp[chr(ord(k) + 32)] = abs(temp[chr(ord(k) + 32)] - 1)\n",
    "        successors.append(temp)  \n",
    "    return successors"
   ]
  },
  {
   "cell_type": "code",
   "execution_count": 13,
   "metadata": {},
   "outputs": [
    {
     "name": "stdout",
     "output_type": "stream",
     "text": [
      "[{'a': 1, 'b': 0, 'c': 0, 'A': 0, 'B': 1, 'C': 1}, {'a': 0, 'b': 1, 'c': 0, 'A': 1, 'B': 0, 'C': 1}, {'a': 0, 'b': 0, 'c': 1, 'A': 1, 'B': 1, 'C': 0}]\n"
     ]
    }
   ],
   "source": [
    "print(next_node({'a': 0, 'b': 0, 'c': 0, 'A': 1, 'B': 1, 'C': 1}))"
   ]
  },
  {
   "cell_type": "code",
   "execution_count": 14,
   "metadata": {},
   "outputs": [],
   "source": [
    "def select_node(success, problem):\n",
    "    heruistic_val = []\n",
    "    for i in success:\n",
    "        heruistic_val.append(heruistic(problem, i))\n",
    "    index = heruistic_val.index(max(heruistic_val))\n",
    "    return success[index]"
   ]
  },
  {
   "cell_type": "code",
   "execution_count": 15,
   "metadata": {},
   "outputs": [],
   "source": [
    "def check_goal_state(state, problem):\n",
    "    count = 0\n",
    "    for sub in problem:       \n",
    "        encode = [state[val] for val in sub]\n",
    "        count += any(encode)\n",
    "    return len(problem) == count"
   ]
  },
  {
   "cell_type": "code",
   "execution_count": 23,
   "metadata": {},
   "outputs": [],
   "source": [
    "def hill_climbing(current_state, problem, step):\n",
    "    if step == 10000:\n",
    "        print('Search halted at depth:', step)\n",
    "        return\n",
    "    if check_goal_state(current_state,problem):\n",
    "        print(current_state,step)\n",
    "        return \n",
    "    else:\n",
    "        step += 1\n",
    "        successor = next_node(current_state)\n",
    "        new_node = select_node(successor, problem)\n",
    "        hill_climbing(new_node,problem, step)"
   ]
  },
  {
   "cell_type": "code",
   "execution_count": 24,
   "metadata": {},
   "outputs": [
    {
     "name": "stdout",
     "output_type": "stream",
     "text": [
      "['a', 'b', 'A', 'B']\n",
      "[['a', 'A', 'B'], ['a', 'b', 'B']]\n",
      "[['a', 'A', 'B'], ['a', 'b', 'A']]\n",
      "[['a', 'b', 'B'], ['a', 'A', 'B']]\n",
      "[['b', 'A', 'B'], ['a', 'b', 'B']]\n",
      "[['b', 'A', 'B'], ['a', 'A', 'B']]\n",
      "[['b', 'A', 'B'], ['a', 'b', 'A']]\n",
      "[['a', 'b', 'B'], ['b', 'A', 'B']]\n",
      "[['a', 'b', 'A'], ['a', 'A', 'B']]\n",
      "[['a', 'b', 'A'], ['a', 'b', 'B']]\n",
      "[['a', 'b', 'A'], ['b', 'A', 'B']]\n"
     ]
    }
   ],
   "source": [
    "n = 2\n",
    "k = 3\n",
    "m = 2\n",
    "var, prob = new_problem(n, k, m)\n",
    "print(var)\n",
    "for i in prob:\n",
    "    print(i)\n"
   ]
  },
  {
   "cell_type": "code",
   "execution_count": 16,
   "metadata": {},
   "outputs": [
    {
     "name": "stdout",
     "output_type": "stream",
     "text": [
      "{'a': 1, 'b': 0, 'A': 0, 'B': 1} [['b', 'A', 'B'], ['a', 'A', 'B']]\n",
      "{'a': 1, 'b': 0, 'A': 0, 'B': 1} 0\n"
     ]
    }
   ],
   "source": [
    "start_state = assign_randome_values(var, n)\n",
    "print(start_state,prob[0])\n",
    "hill_climbing(start_state, prob[0], 0)"
   ]
  },
  {
   "cell_type": "code",
   "execution_count": 17,
   "metadata": {},
   "outputs": [
    {
     "name": "stdout",
     "output_type": "stream",
     "text": [
      "True\n"
     ]
    }
   ],
   "source": [
    "print(check_goal_state({'a': 0, 'b': 1, 'c': 0, 'd': 1, 'A': 1, 'B': 0, 'C': 1, 'D': 0}, prob[7]))"
   ]
  },
  {
   "cell_type": "markdown",
   "metadata": {},
   "source": [
    "# Beam search "
   ]
  },
  {
   "cell_type": "code",
   "execution_count": 18,
   "metadata": {},
   "outputs": [],
   "source": [
    "def heruistic(problem, assign):\n",
    "    count = 0\n",
    "    for sub in problem:       \n",
    "        encode = [assign[val] for val in sub]\n",
    "        count += any(encode)\n",
    "    return count"
   ]
  },
  {
   "cell_type": "code",
   "execution_count": 19,
   "metadata": {},
   "outputs": [],
   "source": [
    "def select_node_beam(success, problem, beamwidth):\n",
    "    heruistic_val = []\n",
    "    beam_nodes = []\n",
    "    for i in success:\n",
    "        heruistic_val.append(heruistic(problem, i))\n",
    "    for i in range(beamwidth):\n",
    "        index = heruistic_val.index(max(heruistic_val))\n",
    "        beam_nodes.append(success[index])\n",
    "        success.remove(success[index])\n",
    "        \n",
    "    return beam_nodes"
   ]
  },
  {
   "cell_type": "code",
   "execution_count": 20,
   "metadata": {},
   "outputs": [],
   "source": [
    "def check_goal_state(state, problem, beamwidth):\n",
    "    count = 0\n",
    "    for sub in problem:       \n",
    "        encode = [state[val] for val in sub]\n",
    "        count += any(encode)\n",
    "    return len(problem) == count"
   ]
  },
  {
   "cell_type": "code",
   "execution_count": 21,
   "metadata": {},
   "outputs": [],
   "source": [
    "def next_node_beam(success):\n",
    "    nextnode = []\n",
    "    for current in success:\n",
    "        key = list(current.keys())\n",
    "        key.sort()\n",
    "        key = key[0 : len(key) // 2]\n",
    "        successors = []\n",
    "        for k in key:\n",
    "            temp = current.copy()\n",
    "            temp[k] = abs(temp[k] - 1)\n",
    "            temp[chr(ord(k) + 32)] = abs(temp[chr(ord(k) + 32)] - 1)\n",
    "            successors.append(temp)\n",
    "            nextnode.append(temp)\n",
    "    return nextnode"
   ]
  },
  {
   "cell_type": "code",
   "execution_count": 39,
   "metadata": {},
   "outputs": [],
   "source": [
    "def beam_search(start, problem, step, beamwidth):\n",
    "    if step == 10000:\n",
    "        print('Search halted at depth:', step)\n",
    "        return\n",
    "    for current_state in start:\n",
    "        print(current_state)\n",
    "        if check_goal_state(current_state, problem, beamwidth):\n",
    "            print(current_state, step)\n",
    "            return \n",
    "    step += 1\n",
    "    successor = next_node_beam(start, problem, beamwidth)\n",
    "    select_node_beam(successor, prob[0], beamwidth)\n",
    "    beam_search(start, problem, step, beamwidth)"
   ]
  },
  {
   "cell_type": "code",
   "execution_count": 40,
   "metadata": {},
   "outputs": [
    {
     "name": "stdout",
     "output_type": "stream",
     "text": [
      "['a', 'b', 'c', 'd', 'e', 'A', 'B', 'C', 'D', 'E']\n",
      "[['b', 'e', 'B'], ['a', 'e', 'C'], ['a', 'b', 'C'], ['c', 'd', 'e'], ['b', 'd', 'A']]\n",
      "[['a', 'A', 'B'], ['b', 'D', 'E'], ['a', 'b', 'E'], ['a', 'd', 'C'], ['C', 'D', 'E']]\n",
      "[['a', 'A', 'C'], ['c', 'A', 'D'], ['a', 'b', 'e'], ['a', 'b', 'c'], ['c', 'C', 'E']]\n",
      "[['a', 'b', 'D'], ['a', 'd', 'C'], ['b', 'C', 'E'], ['e', 'A', 'E'], ['a', 'c', 'B']]\n",
      "[['d', 'e', 'C'], ['a', 'c', 'E'], ['e', 'C', 'E'], ['a', 'c', 'd'], ['b', 'e', 'E']]\n",
      "[['b', 'd', 'A'], ['a', 'A', 'E'], ['d', 'A', 'D'], ['b', 'c', 'e'], ['a', 'd', 'C']]\n",
      "[['a', 'c', 'A'], ['b', 'c', 'C'], ['b', 'A', 'B'], ['a', 'D', 'E'], ['b', 'd', 'D']]\n",
      "[['d', 'D', 'E'], ['a', 'b', 'C'], ['A', 'C', 'D'], ['e', 'A', 'D'], ['b', 'A', 'B']]\n",
      "[['c', 'e', 'E'], ['B', 'D', 'E'], ['d', 'A', 'D'], ['a', 'A', 'B'], ['a', 'b', 'E']]\n",
      "[['a', 'd', 'E'], ['e', 'A', 'D'], ['a', 'b', 'e'], ['a', 'd', 'B'], ['e', 'A', 'E']]\n"
     ]
    }
   ],
   "source": [
    "n = 5\n",
    "var, probl = new_problem(n, 3, 5)\n",
    "print(var)\n",
    "for i in probl:\n",
    "    print(i)"
   ]
  },
  {
   "cell_type": "code",
   "execution_count": 41,
   "metadata": {},
   "outputs": [
    {
     "name": "stdout",
     "output_type": "stream",
     "text": [
      "[{'a': 0, 'b': 1, 'c': 0, 'd': 0, 'e': 0, 'A': 1, 'B': 0, 'C': 1, 'D': 1, 'E': 1}, {'a': 0, 'b': 1, 'c': 0, 'd': 0, 'e': 0, 'A': 1, 'B': 0, 'C': 1, 'D': 1, 'E': 1}]\n"
     ]
    }
   ],
   "source": [
    "start_state = assign_randome_values(var, n)\n",
    "print([start_state, start_state])"
   ]
  },
  {
   "cell_type": "code",
   "execution_count": 42,
   "metadata": {},
   "outputs": [
    {
     "name": "stdout",
     "output_type": "stream",
     "text": [
      "{'a': 0, 'b': 1, 'c': 0, 'd': 0, 'e': 0, 'A': 1, 'B': 0, 'C': 1, 'D': 1, 'E': 1}\n",
      "{'a': 0, 'b': 1, 'c': 0, 'd': 0, 'e': 0, 'A': 1, 'B': 0, 'C': 1, 'D': 1, 'E': 1} 0\n"
     ]
    }
   ],
   "source": [
    "beam_search([start_state, start_state], prob[2], 0, 1)"
   ]
  },
  {
   "attachments": {},
   "cell_type": "markdown",
   "metadata": {},
   "source": [
    "# Variable Neighborhood Descent"
   ]
  },
  {
   "cell_type": "code",
   "execution_count": 43,
   "metadata": {},
   "outputs": [],
   "source": [
    "def heruistic(problem, assign):\n",
    "    count = 0\n",
    "    for sub in problem:       \n",
    "        encode = [assign[val] for val in sub]\n",
    "        count += any(encode)\n",
    "    return count"
   ]
  },
  {
   "cell_type": "code",
   "execution_count": 44,
   "metadata": {},
   "outputs": [],
   "source": [
    "def check_goal_state(state, problem):\n",
    "    count = 0\n",
    "    for sub in problem:       \n",
    "        encode = [state[val] for val in sub]\n",
    "        count += any(encode)\n",
    "    return len(problem) == count"
   ]
  },
  {
   "cell_type": "code",
   "execution_count": 45,
   "metadata": {},
   "outputs": [],
   "source": [
    "def select_node(success, problem):\n",
    "    heruistic_val = []\n",
    "    for i in success:\n",
    "        heruistic_val.append(heruistic(problem, i))\n",
    "    index = heruistic_val.index(max(heruistic_val))\n",
    "    return success[index]"
   ]
  },
  {
   "cell_type": "code",
   "execution_count": 46,
   "metadata": {},
   "outputs": [],
   "source": [
    "def nghd1(current):\n",
    "    key = list(current.keys())\n",
    "    key.sort()\n",
    "    key = key[0 : len(key) // 2]\n",
    "    successors = []\n",
    "    for k in key:\n",
    "        temp = current.copy()\n",
    "        temp[k] = abs(temp[k] - 1)\n",
    "        temp[chr(ord(k) + 32)] = abs(temp[chr(ord(k) + 32)] - 1)\n",
    "        successors.append(temp)   \n",
    "    return successors"
   ]
  },
  {
   "cell_type": "code",
   "execution_count": 47,
   "metadata": {},
   "outputs": [
    {
     "name": "stdout",
     "output_type": "stream",
     "text": [
      "[{'a': 0, 'b': 1, 'c': 1, 'd': 1, 'e': 1, 'A': 1, 'B': 0, 'C': 0, 'D': 0, 'E': 0}, {'a': 1, 'b': 0, 'c': 1, 'd': 1, 'e': 1, 'A': 0, 'B': 1, 'C': 0, 'D': 0, 'E': 0}, {'a': 1, 'b': 1, 'c': 0, 'd': 1, 'e': 1, 'A': 0, 'B': 0, 'C': 1, 'D': 0, 'E': 0}, {'a': 1, 'b': 1, 'c': 1, 'd': 0, 'e': 1, 'A': 0, 'B': 0, 'C': 0, 'D': 1, 'E': 0}, {'a': 1, 'b': 1, 'c': 1, 'd': 1, 'e': 0, 'A': 0, 'B': 0, 'C': 0, 'D': 0, 'E': 1}]\n"
     ]
    }
   ],
   "source": [
    "print(nghd1({'a': 1, 'b': 1, 'c': 1, 'd': 1, 'e': 1, 'A': 0, 'B': 0, 'C': 0, 'D': 0, 'E': 0}))"
   ]
  },
  {
   "cell_type": "code",
   "execution_count": 48,
   "metadata": {},
   "outputs": [],
   "source": [
    "def nghd2(current):\n",
    "    key = list(current.keys())\n",
    "    key.sort()\n",
    "    key = key[0 : len(key) // 2]\n",
    "    successors = []\n",
    "    for j in range(0,len(key) - 1):\n",
    "        for i in range(j,len(key) - 1):\n",
    "            temp = current.copy()\n",
    "            temp[key[i]] = abs(temp[key[i]] - 1)\n",
    "            temp[key[i + 1]] = abs(temp[key[i + 1]] - 1)\n",
    "            temp[chr(ord(key[i]) + 32)] = abs(temp[chr(ord(key[i])+32)]-1)\n",
    "            temp[chr(ord(key[i + 1]) + 32)] = abs(temp[chr(ord(key[i + 1]) + 32)] - 1)\n",
    "            successors.append(temp)   \n",
    "    return successors"
   ]
  },
  {
   "cell_type": "code",
   "execution_count": 49,
   "metadata": {},
   "outputs": [
    {
     "name": "stdout",
     "output_type": "stream",
     "text": [
      "[{'a': 0, 'b': 0, 'c': 1, 'd': 1, 'e': 1, 'A': 1, 'B': 1, 'C': 0, 'D': 0, 'E': 0}, {'a': 1, 'b': 0, 'c': 0, 'd': 1, 'e': 1, 'A': 0, 'B': 1, 'C': 1, 'D': 0, 'E': 0}, {'a': 1, 'b': 1, 'c': 0, 'd': 0, 'e': 1, 'A': 0, 'B': 0, 'C': 1, 'D': 1, 'E': 0}, {'a': 1, 'b': 1, 'c': 1, 'd': 0, 'e': 0, 'A': 0, 'B': 0, 'C': 0, 'D': 1, 'E': 1}, {'a': 1, 'b': 0, 'c': 0, 'd': 1, 'e': 1, 'A': 0, 'B': 1, 'C': 1, 'D': 0, 'E': 0}, {'a': 1, 'b': 1, 'c': 0, 'd': 0, 'e': 1, 'A': 0, 'B': 0, 'C': 1, 'D': 1, 'E': 0}, {'a': 1, 'b': 1, 'c': 1, 'd': 0, 'e': 0, 'A': 0, 'B': 0, 'C': 0, 'D': 1, 'E': 1}, {'a': 1, 'b': 1, 'c': 0, 'd': 0, 'e': 1, 'A': 0, 'B': 0, 'C': 1, 'D': 1, 'E': 0}, {'a': 1, 'b': 1, 'c': 1, 'd': 0, 'e': 0, 'A': 0, 'B': 0, 'C': 0, 'D': 1, 'E': 1}, {'a': 1, 'b': 1, 'c': 1, 'd': 0, 'e': 0, 'A': 0, 'B': 0, 'C': 0, 'D': 1, 'E': 1}]\n"
     ]
    }
   ],
   "source": [
    "print(nghd2({'a': 1, 'b': 1, 'c': 1, 'd': 1, 'e': 1, 'A': 0, 'B': 0, 'C': 0, 'D': 0, 'E': 0}))"
   ]
  },
  {
   "cell_type": "code",
   "execution_count": 50,
   "metadata": {},
   "outputs": [],
   "source": [
    "def nghd3(current):\n",
    "    key = list(current.keys())\n",
    "    key.sort()\n",
    "    key = key[0 : len(key) // 2]\n",
    "    successors = []\n",
    "    for j in range(0,len(key)-2):\n",
    "        for k in range(j,len(key)-2):\n",
    "            for i in range(k,len(key)-2):               \n",
    "                temp = current.copy()\n",
    "                temp[key[i]] = abs(temp[key[i]] - 1)\n",
    "                temp[key[i+1]] = abs(temp[key[i + 1]] - 1)\n",
    "                temp[chr(ord(key[i]) + 32)] = abs(temp[chr(ord(key[i]) + 32)] - 1)\n",
    "                temp[chr(ord(key[i + 1]) + 32)] = abs(temp[chr(ord(key[i + 1]) + 32)] - 1)\n",
    "                successors.append(temp)   \n",
    "    return successors"
   ]
  },
  {
   "cell_type": "code",
   "execution_count": 51,
   "metadata": {},
   "outputs": [
    {
     "name": "stdout",
     "output_type": "stream",
     "text": [
      "[{'a': 0, 'b': 0, 'c': 1, 'd': 1, 'e': 1, 'A': 1, 'B': 1, 'C': 0, 'D': 0, 'E': 0}, {'a': 1, 'b': 0, 'c': 0, 'd': 1, 'e': 1, 'A': 0, 'B': 1, 'C': 1, 'D': 0, 'E': 0}, {'a': 1, 'b': 1, 'c': 0, 'd': 0, 'e': 1, 'A': 0, 'B': 0, 'C': 1, 'D': 1, 'E': 0}, {'a': 1, 'b': 0, 'c': 0, 'd': 1, 'e': 1, 'A': 0, 'B': 1, 'C': 1, 'D': 0, 'E': 0}, {'a': 1, 'b': 1, 'c': 0, 'd': 0, 'e': 1, 'A': 0, 'B': 0, 'C': 1, 'D': 1, 'E': 0}, {'a': 1, 'b': 1, 'c': 0, 'd': 0, 'e': 1, 'A': 0, 'B': 0, 'C': 1, 'D': 1, 'E': 0}, {'a': 1, 'b': 0, 'c': 0, 'd': 1, 'e': 1, 'A': 0, 'B': 1, 'C': 1, 'D': 0, 'E': 0}, {'a': 1, 'b': 1, 'c': 0, 'd': 0, 'e': 1, 'A': 0, 'B': 0, 'C': 1, 'D': 1, 'E': 0}, {'a': 1, 'b': 1, 'c': 0, 'd': 0, 'e': 1, 'A': 0, 'B': 0, 'C': 1, 'D': 1, 'E': 0}, {'a': 1, 'b': 1, 'c': 0, 'd': 0, 'e': 1, 'A': 0, 'B': 0, 'C': 1, 'D': 1, 'E': 0}]\n"
     ]
    }
   ],
   "source": [
    "print(nghd3({'a': 1, 'b': 1, 'c': 1, 'd': 1, 'e': 1, 'A': 0, 'B': 0, 'C': 0, 'D': 0, 'E': 0}))"
   ]
  },
  {
   "cell_type": "code",
   "execution_count": 53,
   "metadata": {},
   "outputs": [],
   "source": [
    "def Variable_Neighborhood1(current_state,problem,step):\n",
    "    if step == 10000:\n",
    "        print('Search halted at depth:',step)\n",
    "        return\n",
    "    if check_goal_state(current_state,problem):\n",
    "        return current_state\n",
    "    else:\n",
    "        step += 1\n",
    "        successor = next_node(current_state)\n",
    "        new_node = nghd1(successor, problem)\n",
    "        Variable_Neighborhood1(new_node, problem, step)"
   ]
  },
  {
   "cell_type": "code",
   "execution_count": 55,
   "metadata": {},
   "outputs": [],
   "source": [
    "def Variable_Neighborhood2(current_state,problem,step):\n",
    "    if step == 10000:\n",
    "        print('Search halted at depth:', step)\n",
    "        return\n",
    "    if check_goal_state(current_state,problem):\n",
    "        return current_state\n",
    "    else:\n",
    "        step += 1\n",
    "        successor = next_node(current_state)\n",
    "        new_node = nghd2(successor, problem)\n",
    "        Variable_Neighborhood2(new_node, problem, step)"
   ]
  },
  {
   "cell_type": "code",
   "execution_count": 56,
   "metadata": {},
   "outputs": [],
   "source": [
    "def Variable_Neighborhood3(current_state,problem,step):\n",
    "    if step == 10000:\n",
    "        print('Search halted at depth:', step)\n",
    "        return\n",
    "    if check_goal_state(current_state,problem):\n",
    "        print(current_state,step)\n",
    "        return \n",
    "    else:\n",
    "        step += 1\n",
    "        successor = next_node(current_state)\n",
    "        new_node = nghd3(successor, problem)\n",
    "        Variable_Neighborhood2(new_node, problem, step)"
   ]
  },
  {
   "cell_type": "code",
   "execution_count": 58,
   "metadata": {},
   "outputs": [
    {
     "name": "stdout",
     "output_type": "stream",
     "text": [
      "['a', 'b', 'c', 'd', 'e', 'A', 'B', 'C', 'D', 'E']\n",
      "[['a', 'b', 'C'], ['e', 'B', 'C'], ['a', 'c', 'D'], ['d', 'e', 'E'], ['B', 'D', 'E']]\n",
      "[['e', 'C', 'D'], ['b', 'D', 'E'], ['d', 'e', 'C'], ['e', 'A', 'B'], ['a', 'c', 'B']]\n",
      "[['B', 'C', 'E'], ['b', 'e', 'E'], ['b', 'A', 'E'], ['b', 'C', 'E'], ['b', 'c', 'B']]\n",
      "[['b', 'e', 'A'], ['d', 'D', 'E'], ['b', 'c', 'e'], ['d', 'A', 'B'], ['b', 'c', 'd']]\n",
      "[['c', 'e', 'E'], ['b', 'B', 'C'], ['a', 'b', 'c'], ['e', 'B', 'D'], ['c', 'e', 'A']]\n",
      "[['e', 'D', 'E'], ['c', 'B', 'C'], ['b', 'e', 'B'], ['d', 'A', 'E'], ['a', 'B', 'C']]\n",
      "[['a', 'e', 'D'], ['d', 'A', 'D'], ['d', 'e', 'E'], ['a', 'c', 'e'], ['a', 'b', 'c']]\n",
      "[['B', 'C', 'D'], ['a', 'd', 'C'], ['a', 'd', 'e'], ['e', 'B', 'C'], ['c', 'A', 'D']]\n",
      "[['b', 'd', 'B'], ['b', 'e', 'E'], ['a', 'c', 'D'], ['c', 'd', 'D'], ['a', 'C', 'D']]\n",
      "[['B', 'D', 'E'], ['d', 'D', 'E'], ['b', 'c', 'e'], ['b', 'A', 'B'], ['a', 'C', 'E']]\n"
     ]
    }
   ],
   "source": [
    "n = 5\n",
    "var, probl = new_problem(5, 3, 5)\n",
    "print(var)\n",
    "for i in probl:\n",
    "    print(i)"
   ]
  },
  {
   "cell_type": "code",
   "execution_count": 62,
   "metadata": {},
   "outputs": [
    {
     "name": "stdout",
     "output_type": "stream",
     "text": [
      "[{'a': 1, 'b': 0, 'c': 0, 'd': 0, 'e': 1, 'A': 0, 'B': 1, 'C': 1, 'D': 1, 'E': 0}, {'a': 1, 'b': 0, 'c': 0, 'd': 0, 'e': 1, 'A': 0, 'B': 1, 'C': 1, 'D': 1, 'E': 0}]\n"
     ]
    }
   ],
   "source": [
    "start_state = assign_randome_values(var, n)\n",
    "print([start_state, start_state])"
   ]
  },
  {
   "cell_type": "code",
   "execution_count": 63,
   "metadata": {},
   "outputs": [
    {
     "data": {
      "text/plain": [
       "{'a': 1,\n",
       " 'b': 0,\n",
       " 'c': 0,\n",
       " 'd': 0,\n",
       " 'e': 1,\n",
       " 'A': 0,\n",
       " 'B': 1,\n",
       " 'C': 1,\n",
       " 'D': 1,\n",
       " 'E': 0}"
      ]
     },
     "execution_count": 63,
     "metadata": {},
     "output_type": "execute_result"
    }
   ],
   "source": [
    "var1 = start_state\n",
    "var2 = Variable_Neighborhood1(var1, prob[0], 0)\n",
    "var3 = Variable_Neighborhood2(var2, prob[0], 0)\n",
    "Variable_Neighborhood2(var3, prob[0], 0)"
   ]
  }
 ],
 "metadata": {
  "kernelspec": {
   "display_name": "Python 3",
   "language": "python",
   "name": "python3"
  },
  "language_info": {
   "codemirror_mode": {
    "name": "ipython",
    "version": 3
   },
   "file_extension": ".py",
   "mimetype": "text/x-python",
   "name": "python",
   "nbconvert_exporter": "python",
   "pygments_lexer": "ipython3",
   "version": "3.11.2"
  }
 },
 "nbformat": 4,
 "nbformat_minor": 4
}
